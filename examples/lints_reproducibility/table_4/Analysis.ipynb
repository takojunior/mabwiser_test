{
 "cells": [
  {
   "cell_type": "code",
   "execution_count": 1,
   "id": "1922f46d",
   "metadata": {},
   "outputs": [],
   "source": [
    "import pandas as pd\n",
    "import os"
   ]
  },
  {
   "cell_type": "markdown",
   "id": "7bc205a3",
   "metadata": {},
   "source": [
    "# Analysis\n",
    "\n",
    "Here, we analyze the discepancies between the environments and their rewards under different decomposition methods."
   ]
  },
  {
   "cell_type": "code",
   "execution_count": 2,
   "id": "6e9e6827",
   "metadata": {},
   "outputs": [
    {
     "data": {
      "text/html": [
       "<div>\n",
       "<style scoped>\n",
       "    .dataframe tbody tr th:only-of-type {\n",
       "        vertical-align: middle;\n",
       "    }\n",
       "\n",
       "    .dataframe tbody tr th {\n",
       "        vertical-align: top;\n",
       "    }\n",
       "\n",
       "    .dataframe thead th {\n",
       "        text-align: right;\n",
       "    }\n",
       "</style>\n",
       "<table border=\"1\" class=\"dataframe\">\n",
       "  <thead>\n",
       "    <tr style=\"text-align: right;\">\n",
       "      <th></th>\n",
       "      <th>env</th>\n",
       "      <th>default</th>\n",
       "      <th>svd</th>\n",
       "      <th>cholesky</th>\n",
       "    </tr>\n",
       "  </thead>\n",
       "  <tbody>\n",
       "    <tr>\n",
       "      <th>0</th>\n",
       "      <td>LinuxUbuntu_MKL</td>\n",
       "      <td>3475.0</td>\n",
       "      <td>3540.0</td>\n",
       "      <td>4140.0</td>\n",
       "    </tr>\n",
       "    <tr>\n",
       "      <th>1</th>\n",
       "      <td>LinuxUbuntu_OpenBLAS</td>\n",
       "      <td>4075.0</td>\n",
       "      <td>3875.0</td>\n",
       "      <td>4140.0</td>\n",
       "    </tr>\n",
       "    <tr>\n",
       "      <th>2</th>\n",
       "      <td>MacOSBigSur_MKL</td>\n",
       "      <td>4135.0</td>\n",
       "      <td>3575.0</td>\n",
       "      <td>4140.0</td>\n",
       "    </tr>\n",
       "    <tr>\n",
       "      <th>3</th>\n",
       "      <td>MacOSBigSur_OpenBLAS</td>\n",
       "      <td>3820.0</td>\n",
       "      <td>3720.0</td>\n",
       "      <td>4140.0</td>\n",
       "    </tr>\n",
       "  </tbody>\n",
       "</table>\n",
       "</div>"
      ],
      "text/plain": [
       "                    env  default     svd  cholesky\n",
       "0       LinuxUbuntu_MKL   3475.0  3540.0    4140.0\n",
       "1  LinuxUbuntu_OpenBLAS   4075.0  3875.0    4140.0\n",
       "2       MacOSBigSur_MKL   4135.0  3575.0    4140.0\n",
       "3  MacOSBigSur_OpenBLAS   3820.0  3720.0    4140.0"
      ]
     },
     "execution_count": 2,
     "metadata": {},
     "output_type": "execute_result"
    }
   ],
   "source": [
    "results = []\n",
    "for file in sorted(os.listdir('output')):\n",
    "    df = pd.read_csv(os.path.join('output', file))\n",
    "    results.append(df)\n",
    "results = pd.concat(results).reset_index(drop=True)\n",
    "results"
   ]
  },
  {
   "cell_type": "markdown",
   "id": "cfdec5e4",
   "metadata": {},
   "source": [
    "We can see that the default implementation, which uses `np.random.multivariate_random`, leads to inconsistent results between environments. Note that this is the same as using `np.random.RandomState`, as the global seed sets the random state. We can also see that the new `Generator` class with default parameters, which internally uses SVD for decomposition, also leads to inconsistent results between environments.\n",
    "\n",
    "When using Cholesky decomposition with the new `Generator` class, our hypothesis is that this will produce reproducible results across different environments. As expected, using Cholesky decomposition leads to the same deterministic cumulative regret across all environments, alleviating the problem. In this case, the Cholesky results actually lead to higher reward."
   ]
  }
 ],
 "metadata": {
  "kernelspec": {
   "display_name": "Python [conda env:dcb]",
   "language": "python",
   "name": "conda-env-dcb-py"
  },
  "language_info": {
   "codemirror_mode": {
    "name": "ipython",
    "version": 3
   },
   "file_extension": ".py",
   "mimetype": "text/x-python",
   "name": "python",
   "nbconvert_exporter": "python",
   "pygments_lexer": "ipython3",
   "version": "3.7.10"
  }
 },
 "nbformat": 4,
 "nbformat_minor": 5
}
