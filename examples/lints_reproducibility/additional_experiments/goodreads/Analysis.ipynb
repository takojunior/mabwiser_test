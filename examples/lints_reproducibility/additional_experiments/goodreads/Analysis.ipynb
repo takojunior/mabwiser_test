{
 "cells": [
  {
   "cell_type": "code",
   "execution_count": 1,
   "id": "missing-blend",
   "metadata": {},
   "outputs": [
    {
     "name": "stdout",
     "output_type": "stream",
     "text": [
      "3.7.10 (default, Feb 26 2021, 10:16:00) \n",
      "[Clang 10.0.0 ]\n",
      "1.18.5\n",
      "0.24.1\n"
     ]
    }
   ],
   "source": [
    "import json\n",
    "import numpy as np\n",
    "import os\n",
    "import pandas as pd\n",
    "import sklearn\n",
    "import sys\n",
    "\n",
    "print(sys.version)\n",
    "print(np.__version__)\n",
    "print(sklearn.__version__)"
   ]
  },
  {
   "cell_type": "markdown",
   "id": "144f6a14",
   "metadata": {},
   "source": [
    "## LinTS GoodReads Recommendations\n",
    "\n",
    "This notebook explores the differences in GoodReads recommendations across multiple NumPy environments. In particular, this notebook uses the preprocessed data generated in [Goodreads Preprocessing](Goodreads%20Preprocessing.ipynb) with some sampling for time constraints, as in [Goodreads Samples](Goodreads%20Samples.ipynb). All scenarios use LinTS for generating recommendations."
   ]
  },
  {
   "cell_type": "code",
   "execution_count": 2,
   "id": "72ffcf7c",
   "metadata": {},
   "outputs": [],
   "source": [
    "results = {}\n",
    "for file in sorted(os.listdir('output')):\n",
    "    if file.endswith('recs.csv'):\n",
    "        df = pd.read_csv(os.path.join('output', file))\n",
    "        env = file.rsplit('_', 1)[0]\n",
    "        results[env] = df"
   ]
  },
  {
   "cell_type": "code",
   "execution_count": 3,
   "id": "a04572b5",
   "metadata": {},
   "outputs": [
    {
     "name": "stdout",
     "output_type": "stream",
     "text": [
      "Looking to see if linuxubuntu_mkl and linuxubuntu_openblas samples match..\n",
      "RandomState matches: False\n",
      "SVD matches: False\n",
      "Cholesky matches: True\n",
      "Looking to see if linuxubuntu_mkl and macosbigsur_mkl samples match..\n",
      "RandomState matches: False\n",
      "SVD matches: False\n",
      "Cholesky matches: True\n",
      "Looking to see if linuxubuntu_mkl and macosbigsur_openblas samples match..\n",
      "RandomState matches: False\n",
      "SVD matches: False\n",
      "Cholesky matches: True\n",
      "Looking to see if linuxubuntu_openblas and macosbigsur_mkl samples match..\n",
      "RandomState matches: False\n",
      "SVD matches: False\n",
      "Cholesky matches: True\n",
      "Looking to see if linuxubuntu_openblas and macosbigsur_openblas samples match..\n",
      "RandomState matches: False\n",
      "SVD matches: False\n",
      "Cholesky matches: True\n",
      "Looking to see if macosbigsur_mkl and macosbigsur_openblas samples match..\n",
      "RandomState matches: False\n",
      "SVD matches: False\n",
      "Cholesky matches: True\n"
     ]
    }
   ],
   "source": [
    "randomstate_matches = []\n",
    "svd_matches = []\n",
    "cholesky_matches = []\n",
    "for i, (env1, df1) in enumerate(results.items()):\n",
    "    for j, (env2, df2) in enumerate(results.items()):\n",
    "        if i < j:\n",
    "            randomstate_match = np.allclose(df1['randomstate'], df2['randomstate'])\n",
    "            svd_match = np.allclose(df1['svd'], df2['svd'])\n",
    "            cholesky_match = np.allclose(df1['cholesky'], df2['cholesky'])\n",
    "            print(f'Looking to see if {env1} and {env2} samples match..')\n",
    "            print(f\"RandomState matches: {randomstate_match}\")\n",
    "            print(f\"SVD matches: {svd_match}\")\n",
    "            print(f\"Cholesky matches: {cholesky_match}\")\n",
    "            randomstate_matches.append(randomstate_match)\n",
    "            svd_matches.append(svd_match)\n",
    "            cholesky_matches.append(cholesky_match)"
   ]
  },
  {
   "cell_type": "markdown",
   "id": "c11f4485",
   "metadata": {},
   "source": [
    "### Option 1\n",
    "We use the default implementation, which uses `np.random.multivariate_random`, and set the global seed to ensure reproducibility in a single environment. Note that this is the same as using `np.random.RandomState`, as the global seed sets the random state."
   ]
  },
  {
   "cell_type": "code",
   "execution_count": 4,
   "id": "35df63a2",
   "metadata": {},
   "outputs": [
    {
     "name": "stdout",
     "output_type": "stream",
     "text": [
      "Ratio of environment pairs with matching samples using RandomState: 0.0\n"
     ]
    }
   ],
   "source": [
    "print(f\"Ratio of environment pairs with matching samples using RandomState: {np.mean(randomstate_matches)}\")"
   ]
  },
  {
   "cell_type": "markdown",
   "id": "3f456c3e",
   "metadata": {},
   "source": [
    "None of the environments actually match.\n",
    "\n",
    "\n",
    "### Option 2\n",
    "We use the new `Generator` class with default parameters, which internally uses SVD for decomposition:"
   ]
  },
  {
   "cell_type": "code",
   "execution_count": 5,
   "id": "e9f1f8bc",
   "metadata": {},
   "outputs": [
    {
     "name": "stdout",
     "output_type": "stream",
     "text": [
      "Ratio of environment pairs with matching samples using Generator with SVD: 0.0\n"
     ]
    }
   ],
   "source": [
    "print(f\"Ratio of environment pairs with matching samples using Generator with SVD: {np.mean(svd_matches)}\")"
   ]
  },
  {
   "cell_type": "markdown",
   "id": "0f0710f2",
   "metadata": {},
   "source": [
    "None of the environments actually match.\n",
    "\n",
    "### Option 3\n",
    "We use Cholesky decomposition with the new Generator class. Our hypothesis is that this will produce reproducible results across different environments."
   ]
  },
  {
   "cell_type": "code",
   "execution_count": 6,
   "id": "d88f3d22",
   "metadata": {},
   "outputs": [
    {
     "name": "stdout",
     "output_type": "stream",
     "text": [
      "Ratio of environment pairs with matching samples using Generator with Cholesky: 1.0\n"
     ]
    }
   ],
   "source": [
    "print(f\"Ratio of environment pairs with matching samples using Generator with Cholesky: {np.mean(cholesky_matches)}\")"
   ]
  },
  {
   "cell_type": "markdown",
   "id": "thermal-postcard",
   "metadata": {},
   "source": [
    "Cholesky decomposition gives us deterministic samples across all environments."
   ]
  }
 ],
 "metadata": {
  "kernelspec": {
   "display_name": "Python [conda env:dcb2]",
   "language": "python",
   "name": "conda-env-dcb2-py"
  },
  "language_info": {
   "codemirror_mode": {
    "name": "ipython",
    "version": 3
   },
   "file_extension": ".py",
   "mimetype": "text/x-python",
   "name": "python",
   "nbconvert_exporter": "python",
   "pygments_lexer": "ipython3",
   "version": "3.7.10"
  }
 },
 "nbformat": 4,
 "nbformat_minor": 5
}
