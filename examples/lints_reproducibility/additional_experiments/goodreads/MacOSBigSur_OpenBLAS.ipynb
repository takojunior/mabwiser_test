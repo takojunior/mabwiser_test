{
 "cells": [
  {
   "cell_type": "code",
   "execution_count": 1,
   "id": "missing-blend",
   "metadata": {},
   "outputs": [
    {
     "name": "stdout",
     "output_type": "stream",
     "text": [
      "3.7.10 (default, Feb 26 2021, 10:16:00) \n",
      "[Clang 10.0.0 ]\n",
      "1.18.5\n",
      "0.24.1\n"
     ]
    }
   ],
   "source": [
    "import json\n",
    "import numpy as np\n",
    "import os\n",
    "import pandas as pd\n",
    "import sklearn\n",
    "import sys\n",
    "\n",
    "print(sys.version)\n",
    "print(np.__version__)\n",
    "print(sklearn.__version__)"
   ]
  },
  {
   "cell_type": "markdown",
   "id": "imported-chest",
   "metadata": {},
   "source": [
    "## LinTS GoodReads Recommendations\n",
    "\n",
    "This notebook explores the differences in GoodReads recommendations across multiple NumPy environments. In particular, this notebook uses the preprocessed data generated in [Goodreads Preprocessing](Goodreads%20Preprocessing.ipynb) with some sampling for time constraints, as in [Goodreads Samples](Goodreads%20Samples.ipynb). All scenarios use LinTS for generating recommendations."
   ]
  },
  {
   "cell_type": "code",
   "execution_count": 2,
   "id": "thermal-residence",
   "metadata": {},
   "outputs": [],
   "source": [
    "from datetime import datetime\n",
    "import json\n",
    "import pandas as pd\n",
    "import numpy as np\n",
    "import os\n",
    "import platform\n",
    "import pickle\n",
    "from sklearn.preprocessing import StandardScaler\n",
    "import sys\n",
    "\n",
    "from mabwiser.mab import MAB\n",
    "from mabwiser.linear import _RidgeRegression, _Linear\n",
    "\n",
    "class LinTSExample(_RidgeRegression):\n",
    "    def __init__(self, *args, random_option=None, rng2=None, arm=None):\n",
    "        self.random_option = random_option\n",
    "        self.rng2 = rng2\n",
    "        self.arm = arm\n",
    "        super().__init__(*args)\n",
    "\n",
    "    def predict(self, x):\n",
    "        if self.scaler is not None:\n",
    "            x = self._scale_predict_context(x) \n",
    "        if self.random_option == 'cholesky':\n",
    "            beta_sampled = self.rng2.multivariate_normal(self.beta, self.A_inv, method='cholesky')\n",
    "        else:\n",
    "            beta_sampled = self.rng2.multivariate_normal(self.beta, self.A_inv)\n",
    "        return np.dot(x, beta_sampled)\n",
    "    \n",
    "class LinearExample(_Linear):\n",
    "    factory = {\"ts\": LinTSExample}\n",
    "\n",
    "    def __init__(self, rng, arms, n_jobs=1, backend=None, l2_lambda=1, alpha=1, regression='ts', arm_to_scaler = None,\n",
    "                 random_option = None, rng2 = None):\n",
    "        super().__init__(rng, arms, n_jobs, backend, l2_lambda, alpha, regression)\n",
    "       \n",
    "        self.l2_lambda = l2_lambda\n",
    "        self.alpha = alpha\n",
    "        self.regression = regression\n",
    "\n",
    "        # Create ridge regression model for each arm\n",
    "        self.num_features = None\n",
    "\n",
    "        if arm_to_scaler is None:\n",
    "            arm_to_scaler = dict((arm, None) for arm in arms)\n",
    "\n",
    "        self.arm_to_model = dict((arm, LinearExample.factory.get(regression)(rng, l2_lambda, alpha, arm_to_scaler[arm],\n",
    "                                                                             random_option=random_option, rng2=rng2, arm=arm)) for arm in arms)\n",
    "\n",
    "\n",
    "def all_positive_definite(model):\n",
    "    eigenval_all_positive = np.all([(np.linalg.eig(model.arm_to_model[k].A_inv)[0] > 0).all() for k in model.arm_to_model])\n",
    "    is_symmetric = np.all([np.allclose(model.arm_to_model[k].A_inv, model.arm_to_model[k].A_inv.T) for k in model.arm_to_model])\n",
    "    return eigenval_all_positive and is_symmetric\n",
    "\n",
    "\n",
    "base_path = 'output'\n",
    "\n",
    "# Dataset 1\n",
    "users = pd.read_csv(os.path.join(base_path, 'sample_user_features.csv.gz'))\n",
    "responses = pd.read_csv(os.path.join(base_path, 'sample_responses.csv.gz'))\n",
    "train = users[users['set']=='train']\n",
    "test = users[users['set']=='test']\n",
    "\n",
    "train = train.merge(responses, how='left', on='user_id')\n",
    "\n",
    "context_features = [c for c in users.columns if c not in ['user_id', 'set']]\n",
    "\n",
    "decisions = MAB._convert_array(train['book_id'])\n",
    "rewards = MAB._convert_array(train['response'])\n",
    "contexts = MAB._convert_matrix(train[context_features]).astype('float')\n",
    "test_contexts = MAB._convert_matrix(test[context_features]).astype('float')\n",
    "\n",
    "scaler = StandardScaler()\n",
    "contexts = scaler.fit_transform(contexts)\n",
    "test_contexts = scaler.transform(test_contexts)\n",
    "item_ids = list(responses['book_id'].unique())\n",
    "\n",
    "def run_goodreads(random_option):\n",
    "    np.random.seed(42)\n",
    "    if random_option == 'randomstate':\n",
    "        rng = np.random.RandomState(seed=11)\n",
    "        rng2 = rng\n",
    "    elif random_option == 'svd':\n",
    "        rng = np.random.RandomState(seed=11)\n",
    "        rng2 = np.random.default_rng(11)\n",
    "    elif random_option == 'cholesky':\n",
    "        rng = np.random.RandomState(seed=11)\n",
    "        rng2 = np.random.default_rng(11)\n",
    "    mab = LinearExample(rng=rng, arms=item_ids, l2_lambda=1, alpha=1, regression='ts', n_jobs=1, backend=None,\n",
    "                        rng2=rng2, random_option=random_option)\n",
    "\n",
    "\n",
    "    np.random.seed(42)\n",
    "    mab.fit(decisions, rewards, contexts)\n",
    "    print(f\"All covariances positive definite: {all_positive_definite(mab)}\")\n",
    "    exps = mab.predict_expectations(test_contexts)\n",
    "\n",
    "    recs = [max(user_exps, key=user_exps.get).item() for user_exps in exps]\n",
    "    return recs"
   ]
  },
  {
   "cell_type": "markdown",
   "id": "cfba8eed",
   "metadata": {},
   "source": [
    "### Option 1\n",
    "We use the default implementation, which uses `np.random.multivariate_random`, and set the global seed to ensure reproducibility in a single environment. Note that this is the same as using `np.random.RandomState`, as the global seed sets the random state."
   ]
  },
  {
   "cell_type": "code",
   "execution_count": 3,
   "id": "ed1134d2",
   "metadata": {},
   "outputs": [
    {
     "name": "stdout",
     "output_type": "stream",
     "text": [
      "All covariances positive definite: True\n",
      "2691\n",
      "[51738, 2914097, 2914097, 16068905, 9520360, 5996153, 10576365, 30183, 12812550, 7896527]\n"
     ]
    }
   ],
   "source": [
    "randomstate_recs = run_goodreads('randomstate')\n",
    "print(len(randomstate_recs))\n",
    "print(randomstate_recs[:10])"
   ]
  },
  {
   "cell_type": "markdown",
   "id": "ec962a31",
   "metadata": {},
   "source": [
    "### Option 2\n",
    "We use the new `Generator` class with default parameters, which internally uses SVD for decomposition:"
   ]
  },
  {
   "cell_type": "code",
   "execution_count": 4,
   "id": "cc628728",
   "metadata": {},
   "outputs": [
    {
     "name": "stdout",
     "output_type": "stream",
     "text": [
      "All covariances positive definite: True\n",
      "2691\n",
      "[51738, 22232, 9627755, 12000020, 7631105, 14290364, 1217100, 22918050, 4502507, 9627755]\n"
     ]
    }
   ],
   "source": [
    "svd_recs = run_goodreads('svd')\n",
    "print(len(svd_recs))\n",
    "print(svd_recs[:10])"
   ]
  },
  {
   "cell_type": "markdown",
   "id": "1cbafb94",
   "metadata": {},
   "source": [
    "### Option 3\n",
    "We use Cholesky decomposition with the new Generator class. Our hypothesis is that this will produce reproducible results across different environments."
   ]
  },
  {
   "cell_type": "code",
   "execution_count": 5,
   "id": "dc9cacaa",
   "metadata": {},
   "outputs": [
    {
     "name": "stdout",
     "output_type": "stream",
     "text": [
      "All covariances positive definite: True\n",
      "2691\n",
      "[22232, 13047090, 693208, 20613470, 693208, 9593911, 23395680, 30183, 11387515, 20613470]\n"
     ]
    }
   ],
   "source": [
    "cholesky_recs = run_goodreads('cholesky')\n",
    "print(len(cholesky_recs))\n",
    "print(cholesky_recs[:10])"
   ]
  },
  {
   "cell_type": "markdown",
   "id": "f045088f",
   "metadata": {},
   "source": [
    "We save all the results for analysis."
   ]
  },
  {
   "cell_type": "code",
   "execution_count": 6,
   "id": "132a8770",
   "metadata": {},
   "outputs": [
    {
     "data": {
      "text/html": [
       "<div>\n",
       "<style scoped>\n",
       "    .dataframe tbody tr th:only-of-type {\n",
       "        vertical-align: middle;\n",
       "    }\n",
       "\n",
       "    .dataframe tbody tr th {\n",
       "        vertical-align: top;\n",
       "    }\n",
       "\n",
       "    .dataframe thead th {\n",
       "        text-align: right;\n",
       "    }\n",
       "</style>\n",
       "<table border=\"1\" class=\"dataframe\">\n",
       "  <thead>\n",
       "    <tr style=\"text-align: right;\">\n",
       "      <th></th>\n",
       "      <th>randomstate</th>\n",
       "      <th>svd</th>\n",
       "      <th>cholesky</th>\n",
       "    </tr>\n",
       "  </thead>\n",
       "  <tbody>\n",
       "    <tr>\n",
       "      <th>0</th>\n",
       "      <td>51738</td>\n",
       "      <td>51738</td>\n",
       "      <td>22232</td>\n",
       "    </tr>\n",
       "    <tr>\n",
       "      <th>1</th>\n",
       "      <td>2914097</td>\n",
       "      <td>22232</td>\n",
       "      <td>13047090</td>\n",
       "    </tr>\n",
       "    <tr>\n",
       "      <th>2</th>\n",
       "      <td>2914097</td>\n",
       "      <td>9627755</td>\n",
       "      <td>693208</td>\n",
       "    </tr>\n",
       "    <tr>\n",
       "      <th>3</th>\n",
       "      <td>16068905</td>\n",
       "      <td>12000020</td>\n",
       "      <td>20613470</td>\n",
       "    </tr>\n",
       "    <tr>\n",
       "      <th>4</th>\n",
       "      <td>9520360</td>\n",
       "      <td>7631105</td>\n",
       "      <td>693208</td>\n",
       "    </tr>\n",
       "    <tr>\n",
       "      <th>...</th>\n",
       "      <td>...</td>\n",
       "      <td>...</td>\n",
       "      <td>...</td>\n",
       "    </tr>\n",
       "    <tr>\n",
       "      <th>2686</th>\n",
       "      <td>22232</td>\n",
       "      <td>6442769</td>\n",
       "      <td>693208</td>\n",
       "    </tr>\n",
       "    <tr>\n",
       "      <th>2687</th>\n",
       "      <td>8492825</td>\n",
       "      <td>22918050</td>\n",
       "      <td>693208</td>\n",
       "    </tr>\n",
       "    <tr>\n",
       "      <th>2688</th>\n",
       "      <td>7631105</td>\n",
       "      <td>12000020</td>\n",
       "      <td>23395680</td>\n",
       "    </tr>\n",
       "    <tr>\n",
       "      <th>2689</th>\n",
       "      <td>693208</td>\n",
       "      <td>14290364</td>\n",
       "      <td>15749186</td>\n",
       "    </tr>\n",
       "    <tr>\n",
       "      <th>2690</th>\n",
       "      <td>15749186</td>\n",
       "      <td>10637766</td>\n",
       "      <td>7937462</td>\n",
       "    </tr>\n",
       "  </tbody>\n",
       "</table>\n",
       "<p>2691 rows × 3 columns</p>\n",
       "</div>"
      ],
      "text/plain": [
       "      randomstate       svd  cholesky\n",
       "0           51738     51738     22232\n",
       "1         2914097     22232  13047090\n",
       "2         2914097   9627755    693208\n",
       "3        16068905  12000020  20613470\n",
       "4         9520360   7631105    693208\n",
       "...           ...       ...       ...\n",
       "2686        22232   6442769    693208\n",
       "2687      8492825  22918050    693208\n",
       "2688      7631105  12000020  23395680\n",
       "2689       693208  14290364  15749186\n",
       "2690     15749186  10637766   7937462\n",
       "\n",
       "[2691 rows x 3 columns]"
      ]
     },
     "execution_count": 6,
     "metadata": {},
     "output_type": "execute_result"
    }
   ],
   "source": [
    "recs = pd.DataFrame({\n",
    "    'randomstate': randomstate_recs,\n",
    "    'svd': svd_recs,\n",
    "    'cholesky': cholesky_recs,\n",
    "})\n",
    "recs"
   ]
  },
  {
   "cell_type": "code",
   "execution_count": 7,
   "id": "488950a7",
   "metadata": {},
   "outputs": [],
   "source": [
    "os.makedirs('output', exist_ok=True)\n",
    "recs.to_csv(os.path.join('output', 'macosbigsur_openblas_recs.csv'), index=False)"
   ]
  }
 ],
 "metadata": {
  "kernelspec": {
   "display_name": "Python [conda env:dcb]",
   "language": "python",
   "name": "conda-env-dcb-py"
  },
  "language_info": {
   "codemirror_mode": {
    "name": "ipython",
    "version": 3
   },
   "file_extension": ".py",
   "mimetype": "text/x-python",
   "name": "python",
   "nbconvert_exporter": "python",
   "pygments_lexer": "ipython3",
   "version": "3.7.10"
  }
 },
 "nbformat": 4,
 "nbformat_minor": 5
}
