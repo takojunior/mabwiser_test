{
 "cells": [
  {
   "cell_type": "code",
   "execution_count": 1,
   "id": "b1acfcf2",
   "metadata": {},
   "outputs": [
    {
     "name": "stdout",
     "output_type": "stream",
     "text": [
      "3.7.10 (default, Feb 26 2021, 18:47:35) \n",
      "[GCC 7.3.0]\n",
      "1.18.5\n",
      "0.24.1\n"
     ]
    }
   ],
   "source": [
    "import json\n",
    "import numpy as np\n",
    "import os\n",
    "import pandas as pd\n",
    "import sklearn\n",
    "import sys\n",
    "\n",
    "print(sys.version)\n",
    "print(np.__version__)\n",
    "print(sklearn.__version__)"
   ]
  },
  {
   "cell_type": "markdown",
   "id": "ad0d6545",
   "metadata": {},
   "source": [
    "## Multivariate Reproducibility\n",
    "\n",
    "This notebook showcases the reproducibility issues with sampling from a multivariate normal distribution in NumPy. It uses the following [GitHub issue](https://github.com/numpy/numpy/issues/2435) as an example."
   ]
  },
  {
   "cell_type": "code",
   "execution_count": 2,
   "id": "05c0b12b",
   "metadata": {},
   "outputs": [],
   "source": [
    "import numpy as np\n",
    "import sys\n",
    "\n",
    "d = 10\n",
    "alpha = 1 / d**0.5\n",
    "mu = np.ones(d)\n",
    "R = alpha * np.ones((d, d)) + (1 - alpha) * np.eye(d)\n",
    "def run_mn(random_option):\n",
    "    ls = []\n",
    "    for _ in range(100):\n",
    "        if random_option == 'randomstate':\n",
    "            rng = np.random.RandomState(seed=587482)\n",
    "            ls.append(rng.multivariate_normal(mu, R, 1))\n",
    "        elif random_option == 'svd':\n",
    "            rng = np.random.default_rng(587482)\n",
    "            ls.append(rng.multivariate_normal(mu, R, 1))\n",
    "        elif random_option == 'cholesky':\n",
    "            rng = np.random.default_rng(587482)\n",
    "            ls.append(rng.multivariate_normal(mu, R, 1, method='cholesky'))\n",
    "    vals = np.unique(np.vstack(ls), axis=0).squeeze()\n",
    "    return vals.tolist()"
   ]
  },
  {
   "cell_type": "markdown",
   "id": "39c88bb4",
   "metadata": {},
   "source": [
    "### Scenario 1\n",
    "\n",
    "Using the old `RandomState` class, we sample from the multivariate normal:"
   ]
  },
  {
   "cell_type": "code",
   "execution_count": 3,
   "id": "d22a78d3",
   "metadata": {},
   "outputs": [
    {
     "data": {
      "text/plain": [
       "[0.0979690286726922,\n",
       " 0.8510258024225754,\n",
       " -1.2944922209998215,\n",
       " -1.1840145803847344,\n",
       " 0.4854180841009934,\n",
       " -0.2390789724144473,\n",
       " 0.7711746637352508,\n",
       " 0.7755532835594922,\n",
       " 0.08713020483749645,\n",
       " 0.6230842869687101]"
      ]
     },
     "execution_count": 3,
     "metadata": {},
     "output_type": "execute_result"
    }
   ],
   "source": [
    "randomstate_results = run_mn('randomstate')\n",
    "randomstate_results"
   ]
  },
  {
   "cell_type": "markdown",
   "id": "287712e3",
   "metadata": {},
   "source": [
    "### Scenario 2\n",
    "Using the new `Generator` class, we sample from the multivariate normal with default arguments:"
   ]
  },
  {
   "cell_type": "code",
   "execution_count": 4,
   "id": "bca2434c",
   "metadata": {},
   "outputs": [
    {
     "data": {
      "text/plain": [
       "[1.5067828253897848,\n",
       " 1.738522577150377,\n",
       " -0.5997607564874361,\n",
       " 0.530395048480902,\n",
       " 0.08545111349984924,\n",
       " 1.8629863885433342,\n",
       " 1.8233736624413166,\n",
       " 2.8039635077587115,\n",
       " 1.5785772381397205,\n",
       " 1.2154195449903729]"
      ]
     },
     "execution_count": 4,
     "metadata": {},
     "output_type": "execute_result"
    }
   ],
   "source": [
    "svd_results = run_mn('svd')\n",
    "svd_results"
   ]
  },
  {
   "cell_type": "markdown",
   "id": "fcba12c4",
   "metadata": {},
   "source": [
    "### Scenario 3\n",
    "Using the new `Generator` class with the Cholesky decomposition method, we sample from the multivariate normal:"
   ]
  },
  {
   "cell_type": "code",
   "execution_count": 5,
   "id": "3c82cb9d",
   "metadata": {},
   "outputs": [
    {
     "data": {
      "text/plain": [
       "[0.5895108638453821,\n",
       " 2.7756236601607247,\n",
       " -1.0727796950422066,\n",
       " -0.07291690740378254,\n",
       " 0.8692535007808191,\n",
       " 1.2042482320343586,\n",
       " 1.3048694562073413,\n",
       " 0.9933494734676546,\n",
       " 0.4586954349656872,\n",
       " 1.102799093618016]"
      ]
     },
     "execution_count": 5,
     "metadata": {},
     "output_type": "execute_result"
    }
   ],
   "source": [
    "cholesky_results = run_mn('cholesky')\n",
    "cholesky_results"
   ]
  },
  {
   "cell_type": "markdown",
   "id": "7e5449b8",
   "metadata": {},
   "source": [
    "Cholesky decomposition should give us deterministic samples across all environments."
   ]
  },
  {
   "cell_type": "code",
   "execution_count": 6,
   "id": "f6831811",
   "metadata": {},
   "outputs": [
    {
     "data": {
      "text/html": [
       "<div>\n",
       "<style scoped>\n",
       "    .dataframe tbody tr th:only-of-type {\n",
       "        vertical-align: middle;\n",
       "    }\n",
       "\n",
       "    .dataframe tbody tr th {\n",
       "        vertical-align: top;\n",
       "    }\n",
       "\n",
       "    .dataframe thead th {\n",
       "        text-align: right;\n",
       "    }\n",
       "</style>\n",
       "<table border=\"1\" class=\"dataframe\">\n",
       "  <thead>\n",
       "    <tr style=\"text-align: right;\">\n",
       "      <th></th>\n",
       "      <th>randomstate</th>\n",
       "      <th>svd</th>\n",
       "      <th>cholesky</th>\n",
       "    </tr>\n",
       "  </thead>\n",
       "  <tbody>\n",
       "    <tr>\n",
       "      <th>0</th>\n",
       "      <td>0.097969</td>\n",
       "      <td>1.506783</td>\n",
       "      <td>0.589511</td>\n",
       "    </tr>\n",
       "    <tr>\n",
       "      <th>1</th>\n",
       "      <td>0.851026</td>\n",
       "      <td>1.738523</td>\n",
       "      <td>2.775624</td>\n",
       "    </tr>\n",
       "    <tr>\n",
       "      <th>2</th>\n",
       "      <td>-1.294492</td>\n",
       "      <td>-0.599761</td>\n",
       "      <td>-1.072780</td>\n",
       "    </tr>\n",
       "    <tr>\n",
       "      <th>3</th>\n",
       "      <td>-1.184015</td>\n",
       "      <td>0.530395</td>\n",
       "      <td>-0.072917</td>\n",
       "    </tr>\n",
       "    <tr>\n",
       "      <th>4</th>\n",
       "      <td>0.485418</td>\n",
       "      <td>0.085451</td>\n",
       "      <td>0.869254</td>\n",
       "    </tr>\n",
       "    <tr>\n",
       "      <th>5</th>\n",
       "      <td>-0.239079</td>\n",
       "      <td>1.862986</td>\n",
       "      <td>1.204248</td>\n",
       "    </tr>\n",
       "    <tr>\n",
       "      <th>6</th>\n",
       "      <td>0.771175</td>\n",
       "      <td>1.823374</td>\n",
       "      <td>1.304869</td>\n",
       "    </tr>\n",
       "    <tr>\n",
       "      <th>7</th>\n",
       "      <td>0.775553</td>\n",
       "      <td>2.803964</td>\n",
       "      <td>0.993349</td>\n",
       "    </tr>\n",
       "    <tr>\n",
       "      <th>8</th>\n",
       "      <td>0.087130</td>\n",
       "      <td>1.578577</td>\n",
       "      <td>0.458695</td>\n",
       "    </tr>\n",
       "    <tr>\n",
       "      <th>9</th>\n",
       "      <td>0.623084</td>\n",
       "      <td>1.215420</td>\n",
       "      <td>1.102799</td>\n",
       "    </tr>\n",
       "  </tbody>\n",
       "</table>\n",
       "</div>"
      ],
      "text/plain": [
       "   randomstate       svd  cholesky\n",
       "0     0.097969  1.506783  0.589511\n",
       "1     0.851026  1.738523  2.775624\n",
       "2    -1.294492 -0.599761 -1.072780\n",
       "3    -1.184015  0.530395 -0.072917\n",
       "4     0.485418  0.085451  0.869254\n",
       "5    -0.239079  1.862986  1.204248\n",
       "6     0.771175  1.823374  1.304869\n",
       "7     0.775553  2.803964  0.993349\n",
       "8     0.087130  1.578577  0.458695\n",
       "9     0.623084  1.215420  1.102799"
      ]
     },
     "execution_count": 6,
     "metadata": {},
     "output_type": "execute_result"
    }
   ],
   "source": [
    "results = pd.DataFrame({\n",
    "    'randomstate': randomstate_results,\n",
    "    'svd': svd_results,\n",
    "    'cholesky': cholesky_results,\n",
    "})\n",
    "results"
   ]
  },
  {
   "cell_type": "code",
   "execution_count": 7,
   "id": "a22f9ee7",
   "metadata": {},
   "outputs": [],
   "source": [
    "os.makedirs('output', exist_ok=True)\n",
    "results.to_csv(os.path.join('output', 'linuxubuntu_openblas_results.csv'), index=False)"
   ]
  }
 ],
 "metadata": {
  "kernelspec": {
   "display_name": "Python 3 (ipykernel)",
   "language": "python",
   "name": "python3"
  },
  "language_info": {
   "codemirror_mode": {
    "name": "ipython",
    "version": 3
   },
   "file_extension": ".py",
   "mimetype": "text/x-python",
   "name": "python",
   "nbconvert_exporter": "python",
   "pygments_lexer": "ipython3",
   "version": "3.7.10"
  }
 },
 "nbformat": 4,
 "nbformat_minor": 5
}
