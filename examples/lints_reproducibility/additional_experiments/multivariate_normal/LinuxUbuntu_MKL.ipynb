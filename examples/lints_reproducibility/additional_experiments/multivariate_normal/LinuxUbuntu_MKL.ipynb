{
 "cells": [
  {
   "cell_type": "code",
   "execution_count": 1,
   "id": "b1acfcf2",
   "metadata": {},
   "outputs": [
    {
     "name": "stdout",
     "output_type": "stream",
     "text": [
      "3.7.10 (default, Feb 26 2021, 18:47:35) \n",
      "[GCC 7.3.0]\n",
      "1.18.5\n",
      "0.24.1\n"
     ]
    }
   ],
   "source": [
    "import json\n",
    "import numpy as np\n",
    "import os\n",
    "import pandas as pd\n",
    "import sklearn\n",
    "import sys\n",
    "\n",
    "print(sys.version)\n",
    "print(np.__version__)\n",
    "print(sklearn.__version__)"
   ]
  },
  {
   "cell_type": "markdown",
   "id": "ad0d6545",
   "metadata": {},
   "source": [
    "## Multivariate Reproducibility\n",
    "\n",
    "This notebook showcases the reproducibility issues with sampling from a multivariate normal distribution in NumPy. It uses the following [GitHub issue](https://github.com/numpy/numpy/issues/2435) as an example."
   ]
  },
  {
   "cell_type": "code",
   "execution_count": 2,
   "id": "05c0b12b",
   "metadata": {},
   "outputs": [],
   "source": [
    "import numpy as np\n",
    "import sys\n",
    "\n",
    "d = 10\n",
    "alpha = 1 / d**0.5\n",
    "mu = np.ones(d)\n",
    "R = alpha * np.ones((d, d)) + (1 - alpha) * np.eye(d)\n",
    "def run_mn(random_option):\n",
    "    ls = []\n",
    "    for _ in range(100):\n",
    "        np.random.rand(10)\n",
    "        if random_option == 'randomstate':\n",
    "            rng = np.random.RandomState(seed=587482)\n",
    "            ls.append(rng.multivariate_normal(mu, R, 1))\n",
    "        elif random_option == 'svd':\n",
    "            rng = np.random.default_rng(587482)\n",
    "            ls.append(rng.multivariate_normal(mu, R, 1))\n",
    "        elif random_option == 'cholesky':\n",
    "            rng = np.random.default_rng(587482)\n",
    "            ls.append(rng.multivariate_normal(mu, R, 1, method='cholesky'))\n",
    "    vals = np.unique(np.vstack(ls), axis=0).squeeze()\n",
    "    return vals.tolist()"
   ]
  },
  {
   "cell_type": "markdown",
   "id": "39c88bb4",
   "metadata": {},
   "source": [
    "### Scenario 1\n",
    "\n",
    "Using the old `RandomState` class, we sample from the multivariate normal:"
   ]
  },
  {
   "cell_type": "code",
   "execution_count": 3,
   "id": "d22a78d3",
   "metadata": {},
   "outputs": [
    {
     "data": {
      "text/plain": [
       "[0.0979690286726922,\n",
       " 0.4400853794976822,\n",
       " 0.26094846344373945,\n",
       " 0.8460852784037585,\n",
       " 0.7329605282179606,\n",
       " 1.3780882566415975,\n",
       " -0.7805135060417068,\n",
       " -0.20018694051127506,\n",
       " -0.8869033304500695,\n",
       " -0.9147635773761715]"
      ]
     },
     "execution_count": 3,
     "metadata": {},
     "output_type": "execute_result"
    }
   ],
   "source": [
    "randomstate_results = run_mn('randomstate')\n",
    "randomstate_results"
   ]
  },
  {
   "cell_type": "markdown",
   "id": "287712e3",
   "metadata": {},
   "source": [
    "### Scenario 2\n",
    "Using the new `Generator` class, we sample from the multivariate normal with default arguments:"
   ]
  },
  {
   "cell_type": "code",
   "execution_count": 4,
   "id": "bca2434c",
   "metadata": {},
   "outputs": [
    {
     "data": {
      "text/plain": [
       "[1.5067828253897848,\n",
       " 1.8202132278333147,\n",
       " 1.630191108136768,\n",
       " 1.1709111989663659,\n",
       " 1.995509336179825,\n",
       " 2.366191333437567,\n",
       " 1.8158426438606308,\n",
       " 0.5965130448771689,\n",
       " -1.0887921791227972,\n",
       " 0.7323486103483059]"
      ]
     },
     "execution_count": 4,
     "metadata": {},
     "output_type": "execute_result"
    }
   ],
   "source": [
    "svd_results = run_mn('svd')\n",
    "svd_results"
   ]
  },
  {
   "cell_type": "markdown",
   "id": "fcba12c4",
   "metadata": {},
   "source": [
    "### Scenario 3\n",
    "Using the new `Generator` class with the Cholesky decomposition method, we sample from the multivariate normal:"
   ]
  },
  {
   "cell_type": "code",
   "execution_count": 5,
   "id": "3c82cb9d",
   "metadata": {},
   "outputs": [
    {
     "data": {
      "text/plain": [
       "[0.5895108638453821,\n",
       " 2.7756236601607247,\n",
       " -1.0727796950422066,\n",
       " -0.07291690740378276,\n",
       " 0.8692535007808192,\n",
       " 1.2042482320343586,\n",
       " 1.3048694562073413,\n",
       " 0.9933494734676547,\n",
       " 0.4586954349656871,\n",
       " 1.102799093618016]"
      ]
     },
     "execution_count": 5,
     "metadata": {},
     "output_type": "execute_result"
    }
   ],
   "source": [
    "cholesky_results = run_mn('cholesky')\n",
    "cholesky_results"
   ]
  },
  {
   "cell_type": "markdown",
   "id": "7e5449b8",
   "metadata": {},
   "source": [
    "Cholesky decomposition should give us deterministic samples across all environments."
   ]
  },
  {
   "cell_type": "code",
   "execution_count": 6,
   "id": "f6831811",
   "metadata": {},
   "outputs": [
    {
     "data": {
      "text/html": [
       "<div>\n",
       "<style scoped>\n",
       "    .dataframe tbody tr th:only-of-type {\n",
       "        vertical-align: middle;\n",
       "    }\n",
       "\n",
       "    .dataframe tbody tr th {\n",
       "        vertical-align: top;\n",
       "    }\n",
       "\n",
       "    .dataframe thead th {\n",
       "        text-align: right;\n",
       "    }\n",
       "</style>\n",
       "<table border=\"1\" class=\"dataframe\">\n",
       "  <thead>\n",
       "    <tr style=\"text-align: right;\">\n",
       "      <th></th>\n",
       "      <th>randomstate</th>\n",
       "      <th>svd</th>\n",
       "      <th>cholesky</th>\n",
       "    </tr>\n",
       "  </thead>\n",
       "  <tbody>\n",
       "    <tr>\n",
       "      <th>0</th>\n",
       "      <td>0.097969</td>\n",
       "      <td>1.506783</td>\n",
       "      <td>0.589511</td>\n",
       "    </tr>\n",
       "    <tr>\n",
       "      <th>1</th>\n",
       "      <td>0.440085</td>\n",
       "      <td>1.820213</td>\n",
       "      <td>2.775624</td>\n",
       "    </tr>\n",
       "    <tr>\n",
       "      <th>2</th>\n",
       "      <td>0.260948</td>\n",
       "      <td>1.630191</td>\n",
       "      <td>-1.072780</td>\n",
       "    </tr>\n",
       "    <tr>\n",
       "      <th>3</th>\n",
       "      <td>0.846085</td>\n",
       "      <td>1.170911</td>\n",
       "      <td>-0.072917</td>\n",
       "    </tr>\n",
       "    <tr>\n",
       "      <th>4</th>\n",
       "      <td>0.732961</td>\n",
       "      <td>1.995509</td>\n",
       "      <td>0.869254</td>\n",
       "    </tr>\n",
       "    <tr>\n",
       "      <th>5</th>\n",
       "      <td>1.378088</td>\n",
       "      <td>2.366191</td>\n",
       "      <td>1.204248</td>\n",
       "    </tr>\n",
       "    <tr>\n",
       "      <th>6</th>\n",
       "      <td>-0.780514</td>\n",
       "      <td>1.815843</td>\n",
       "      <td>1.304869</td>\n",
       "    </tr>\n",
       "    <tr>\n",
       "      <th>7</th>\n",
       "      <td>-0.200187</td>\n",
       "      <td>0.596513</td>\n",
       "      <td>0.993349</td>\n",
       "    </tr>\n",
       "    <tr>\n",
       "      <th>8</th>\n",
       "      <td>-0.886903</td>\n",
       "      <td>-1.088792</td>\n",
       "      <td>0.458695</td>\n",
       "    </tr>\n",
       "    <tr>\n",
       "      <th>9</th>\n",
       "      <td>-0.914764</td>\n",
       "      <td>0.732349</td>\n",
       "      <td>1.102799</td>\n",
       "    </tr>\n",
       "  </tbody>\n",
       "</table>\n",
       "</div>"
      ],
      "text/plain": [
       "   randomstate       svd  cholesky\n",
       "0     0.097969  1.506783  0.589511\n",
       "1     0.440085  1.820213  2.775624\n",
       "2     0.260948  1.630191 -1.072780\n",
       "3     0.846085  1.170911 -0.072917\n",
       "4     0.732961  1.995509  0.869254\n",
       "5     1.378088  2.366191  1.204248\n",
       "6    -0.780514  1.815843  1.304869\n",
       "7    -0.200187  0.596513  0.993349\n",
       "8    -0.886903 -1.088792  0.458695\n",
       "9    -0.914764  0.732349  1.102799"
      ]
     },
     "execution_count": 6,
     "metadata": {},
     "output_type": "execute_result"
    }
   ],
   "source": [
    "results = pd.DataFrame({\n",
    "    'randomstate': randomstate_results,\n",
    "    'svd': svd_results,\n",
    "    'cholesky': cholesky_results,\n",
    "})\n",
    "results"
   ]
  },
  {
   "cell_type": "code",
   "execution_count": 7,
   "id": "a22f9ee7",
   "metadata": {},
   "outputs": [],
   "source": [
    "os.makedirs('output', exist_ok=True)\n",
    "results.to_csv(os.path.join('output', 'linuxubuntu_mkl_results.csv'), index=False)"
   ]
  }
 ],
 "metadata": {
  "kernelspec": {
   "display_name": "Python 3 (ipykernel)",
   "language": "python",
   "name": "python3"
  },
  "language_info": {
   "codemirror_mode": {
    "name": "ipython",
    "version": 3
   },
   "file_extension": ".py",
   "mimetype": "text/x-python",
   "name": "python",
   "nbconvert_exporter": "python",
   "pygments_lexer": "ipython3",
   "version": "3.7.10"
  }
 },
 "nbformat": 4,
 "nbformat_minor": 5
}
