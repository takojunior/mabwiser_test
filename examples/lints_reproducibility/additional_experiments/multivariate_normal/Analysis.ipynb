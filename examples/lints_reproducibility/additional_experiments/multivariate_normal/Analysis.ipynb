{
 "cells": [
  {
   "cell_type": "code",
   "execution_count": 1,
   "id": "b1acfcf2",
   "metadata": {},
   "outputs": [
    {
     "name": "stdout",
     "output_type": "stream",
     "text": [
      "1.18.5\n",
      "0.24.1\n"
     ]
    }
   ],
   "source": [
    "import json\n",
    "import numpy as np\n",
    "import os\n",
    "import pandas as pd\n",
    "import sklearn\n",
    "\n",
    "print(np.__version__)\n",
    "print(sklearn.__version__)"
   ]
  },
  {
   "cell_type": "markdown",
   "id": "ad0d6545",
   "metadata": {},
   "source": [
    "## Multivariate Reproducibility\n",
    "\n",
    "This notebook showcases the reproducibility issues with sampling from a multivariate normal distribution in NumPy. It uses the following [GitHub issue](https://github.com/numpy/numpy/issues/2435) as an example."
   ]
  },
  {
   "cell_type": "code",
   "execution_count": 2,
   "id": "71d222ba",
   "metadata": {},
   "outputs": [],
   "source": [
    "results = {}\n",
    "for file in sorted(os.listdir('output')):\n",
    "    df = pd.read_csv(os.path.join('output', file))\n",
    "    env = file.rsplit('_', 1)[0]\n",
    "    results[env] = df"
   ]
  },
  {
   "cell_type": "code",
   "execution_count": 3,
   "id": "d8aaf4f7",
   "metadata": {},
   "outputs": [
    {
     "name": "stdout",
     "output_type": "stream",
     "text": [
      "Looking to see if linuxubuntu_mkl and linuxubuntu_openblas samples match..\n",
      "RandomState matches: False\n",
      "SVD matches: False\n",
      "Cholesky matches: True\n",
      "Looking to see if linuxubuntu_mkl and macosbigsur_mkl samples match..\n",
      "RandomState matches: False\n",
      "SVD matches: False\n",
      "Cholesky matches: True\n",
      "Looking to see if linuxubuntu_mkl and macosbigsur_openblas samples match..\n",
      "RandomState matches: False\n",
      "SVD matches: False\n",
      "Cholesky matches: True\n",
      "Looking to see if linuxubuntu_openblas and macosbigsur_mkl samples match..\n",
      "RandomState matches: True\n",
      "SVD matches: True\n",
      "Cholesky matches: True\n",
      "Looking to see if linuxubuntu_openblas and macosbigsur_openblas samples match..\n",
      "RandomState matches: True\n",
      "SVD matches: True\n",
      "Cholesky matches: True\n",
      "Looking to see if macosbigsur_mkl and macosbigsur_openblas samples match..\n",
      "RandomState matches: True\n",
      "SVD matches: True\n",
      "Cholesky matches: True\n"
     ]
    }
   ],
   "source": [
    "randomstate_matches = []\n",
    "svd_matches = []\n",
    "cholesky_matches = []\n",
    "for i, (env1, df1) in enumerate(results.items()):\n",
    "    for j, (env2, df2) in enumerate(results.items()):\n",
    "        if i < j:\n",
    "            randomstate_match = np.allclose(df1['randomstate'], df2['randomstate'])\n",
    "            svd_match = np.allclose(df1['svd'], df2['svd'])\n",
    "            cholesky_match = np.allclose(df1['cholesky'], df2['cholesky'])\n",
    "            print(f'Looking to see if {env1} and {env2} samples match..')\n",
    "            print(f\"RandomState matches: {randomstate_match}\")\n",
    "            print(f\"SVD matches: {svd_match}\")\n",
    "            print(f\"Cholesky matches: {cholesky_match}\")\n",
    "            randomstate_matches.append(randomstate_match)\n",
    "            svd_matches.append(svd_match)\n",
    "            cholesky_matches.append(cholesky_match)"
   ]
  },
  {
   "cell_type": "markdown",
   "id": "39c88bb4",
   "metadata": {},
   "source": [
    "### Scenario 1\n",
    "\n",
    "Using the old `RandomState` class, we sample from the multivariate normal:"
   ]
  },
  {
   "cell_type": "code",
   "execution_count": 4,
   "id": "d22a78d3",
   "metadata": {},
   "outputs": [
    {
     "name": "stdout",
     "output_type": "stream",
     "text": [
      "Ratio of environment pairs with matching samples using RandomState: 0.5\n"
     ]
    }
   ],
   "source": [
    "print(f\"Ratio of environment pairs with matching samples using RandomState: {np.mean(randomstate_matches)}\")"
   ]
  },
  {
   "cell_type": "markdown",
   "id": "287712e3",
   "metadata": {},
   "source": [
    "Only 50% of the environments actually match.\n",
    "\n",
    "### Scenario 2\n",
    "Using the new `Generator` class, we sample from the multivariate normal with default arguments:"
   ]
  },
  {
   "cell_type": "code",
   "execution_count": 5,
   "id": "bca2434c",
   "metadata": {},
   "outputs": [
    {
     "name": "stdout",
     "output_type": "stream",
     "text": [
      "Ratio of environment pairs with matching samples using Generator with SVD: 0.5\n"
     ]
    }
   ],
   "source": [
    "print(f\"Ratio of environment pairs with matching samples using Generator with SVD: {np.mean(svd_matches)}\")"
   ]
  },
  {
   "cell_type": "markdown",
   "id": "fcba12c4",
   "metadata": {},
   "source": [
    "Only 50% of the environments actually match.\n",
    "\n",
    "### Scenario 3\n",
    "Using the new `Generator` class with the Cholesky decomposition method, we sample from the multivariate normal:"
   ]
  },
  {
   "cell_type": "code",
   "execution_count": 6,
   "id": "3c82cb9d",
   "metadata": {},
   "outputs": [
    {
     "name": "stdout",
     "output_type": "stream",
     "text": [
      "Ratio of environment pairs with matching samples using Generator with Cholesky: 1.0\n"
     ]
    }
   ],
   "source": [
    "print(f\"Ratio of environment pairs with matching samples using Generator with Cholesky: {np.mean(cholesky_matches)}\")"
   ]
  },
  {
   "cell_type": "markdown",
   "id": "7e5449b8",
   "metadata": {},
   "source": [
    "Cholesky decomposition gives us deterministic samples across all environments."
   ]
  }
 ],
 "metadata": {
  "kernelspec": {
   "display_name": "Python [conda env:dcb2]",
   "language": "python",
   "name": "conda-env-dcb2-py"
  },
  "language_info": {
   "codemirror_mode": {
    "name": "ipython",
    "version": 3
   },
   "file_extension": ".py",
   "mimetype": "text/x-python",
   "name": "python",
   "nbconvert_exporter": "python",
   "pygments_lexer": "ipython3",
   "version": "3.7.10"
  }
 },
 "nbformat": 4,
 "nbformat_minor": 5
}
